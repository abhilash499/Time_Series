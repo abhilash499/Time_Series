{
 "cells": [
  {
   "cell_type": "code",
   "execution_count": 1,
   "metadata": {},
   "outputs": [],
   "source": [
    "# Direct Multistep Time Series Forecasting:\n",
    "#     Direct Day - Predict for specific day of a week. e.g Sat or Tue."
   ]
  },
  {
   "cell_type": "code",
   "execution_count": 4,
   "metadata": {},
   "outputs": [],
   "source": [
    "# Direct Day multi-step forecast using Linear Algorithms\n",
    "import pandas as pd\n",
    "import numpy as np\n",
    "import scipy\n",
    "import matplotlib.pyplot as plt\n",
    "from math import sqrt\n",
    "from sklearn.metrics import mean_squared_error\n",
    "from sklearn.preprocessing import StandardScaler, MinMaxScaler\n",
    "from sklearn.pipeline import Pipeline\n",
    "from sklearn.linear_model import LinearRegression, Lasso, Ridge, ElasticNet, HuberRegressor, Lars, LassoLars\n",
    "from sklearn.linear_model import RANSACRegressor, PassiveAggressiveRegressor, SGDRegressor"
   ]
  },
  {
   "cell_type": "code",
   "execution_count": 5,
   "metadata": {},
   "outputs": [],
   "source": [
    "# Split the dataset with daily observation into Train And Test. Use First three years as train and Last year as test.\n",
    "# After splitting, restructure into window of weekly data.\n",
    "# i/p: Dataframe Values, o/p: Train and Test array. Each row contains array of daily data for 1 week.\n",
    "def split_data_train_test(data):\n",
    "    train, test = data[1:-328], data[-328:-6]\n",
    "    train = np.array(np.split(train , len(train)/7))\n",
    "    test = np.array(np.split(test , len(test)/7))\n",
    "    return train, test"
   ]
  },
  {
   "cell_type": "code",
   "execution_count": 31,
   "metadata": {},
   "outputs": [],
   "source": [
    "# Prepare a list of ML Linear models as dictionary.\n",
    "def get_models(models=dict()):\n",
    "    models['LR'] = LinearRegression()\n",
    "    models['LA'] = Lasso()\n",
    "    models['RD'] = Ridge()\n",
    "    models['ET'] = ElasticNet()\n",
    "    models['HB'] = HuberRegressor()\n",
    "    models['LRS'] = Lars()\n",
    "    models['LLRS'] = LassoLars()\n",
    "    models['RSR'] = RANSACRegressor()\n",
    "    models['PAG'] = PassiveAggressiveRegressor(max_iter=1000, tol=1e-3)    \n",
    "    models['SGD'] = SGDRegressor(max_iter=1500, tol=1e-3)\n",
    "    return models"
   ]
  },
  {
   "cell_type": "code",
   "execution_count": 32,
   "metadata": {},
   "outputs": [],
   "source": [
    "# Create a Pipeline for a model with Pre-Processing steps.\n",
    "def make_pipeline(model):\n",
    "    steps = []\n",
    "    steps.append(('standardize', StandardScaler()))\n",
    "    steps.append(('normalize', MinMaxScaler()))\n",
    "    steps.append(('model', model))  \n",
    "    pipeline = Pipeline(steps=steps)\n",
    "    return pipeline               "
   ]
  },
  {
   "cell_type": "code",
   "execution_count": 33,
   "metadata": {},
   "outputs": [],
   "source": [
    "# Create evaluation matirx using RMSE across each of the forecasted days and overall score.\n",
    "def evaluate_forecasts(actual, predicted):\n",
    "    scores = list()\n",
    "    # calculate RMSE score of each day for all the weeks available.\n",
    "    for col in range(actual.shape[1]):\n",
    "        mse = mean_squared_error(actual[:, col], predicted[:, col])\n",
    "        rmse = sqrt(mse)\n",
    "        scores.append(rmse)\n",
    "        \n",
    "    # calculate overall RMSE score of all the weeks available.\n",
    "    s = 0\n",
    "    for row in range(actual.shape[0]):\n",
    "        for col in range(actual.shape[1]):\n",
    "            s += (actual[row,col] - predicted[row,col])**2\n",
    "    score = sqrt(s/(actual.shape[0] * actual.shape[1]))\n",
    "    return score, scores   "
   ]
  },
  {
   "cell_type": "code",
   "execution_count": 34,
   "metadata": {},
   "outputs": [],
   "source": [
    "# i/p: list of weekly data + index_output_day[0 to 6], o/p: train_x, train_y only for Total Power\n",
    "def split_train_Xy(history, idx_output):\n",
    "    X, y = list(), list()\n",
    "    total_weeks = len(history)\n",
    "    for week in range(total_weeks-1):\n",
    "            X.append(history[week][:,0])\n",
    "            y.append(history[week+1][idx_output,0])   \n",
    "    return np.array(X), np.array(y)"
   ]
  },
  {
   "cell_type": "code",
   "execution_count": 35,
   "metadata": {},
   "outputs": [],
   "source": [
    "# The model will use the last row of the training dataset to make the forecast of specific day of next week \n",
    "# called Recursive Multistep Forecast.\n",
    "# Fit a model and make a forecast\n",
    "# i/p: model, list of weekly data. o/p: Forecast for next 1 week\n",
    "def predict_model(model, history):\n",
    "    weekly_predict=[]\n",
    "    for i in range(7):\n",
    "        # Call FUNCTION train_test_split\n",
    "        train_x, train_y = split_train_Xy(history, i)\n",
    "        \n",
    "        # Fit the model.\n",
    "        pipeline = make_pipeline(model)\n",
    "        pipeline.fit(train_x, train_y) \n",
    "        \n",
    "        # Predict next week \n",
    "        X = np.array(train_x[-1,:]).reshape(1,7)\n",
    "        daily_predict = pipeline.predict(X)[0]\n",
    "        weekly_predict.append(daily_predict)\n",
    "    return(weekly_predict)"
   ]
  },
  {
   "cell_type": "code",
   "execution_count": 36,
   "metadata": {},
   "outputs": [],
   "source": [
    "# Evaluate a single model.\n",
    "# i/p: Model, Array of train/test and n_input. o/p - Total RMSE and Daily RMSE for 7 days.\n",
    "def evaluate_model(model, train, test):\n",
    "    history = [weekly_data for weekly_data in train]\n",
    "    predictions = []\n",
    "    for week in range(len(test)):\n",
    "        # Call FUNCTION predict_model\n",
    "        weekly_predict = predict_model(model, history)\n",
    "        predictions.append(weekly_predict)\n",
    "        history.append(test[week,:])\n",
    "        \n",
    "    predictions = np.array(predictions)    \n",
    "    # Call FUNCTION evaluate_forecast\n",
    "    score, scores = evaluate_forecasts(test[:,:,0], predictions)\n",
    "    return score, scores    "
   ]
  },
  {
   "cell_type": "code",
   "execution_count": 37,
   "metadata": {},
   "outputs": [],
   "source": [
    "# Print Scores\n",
    "def print_scores(name, score, scores):\n",
    "    s_scores = ', '.join(['%.1f' % s for s in scores])\n",
    "    print('%s: [%.3f] %s' % (name, score, s_scores))"
   ]
  },
  {
   "cell_type": "code",
   "execution_count": 38,
   "metadata": {},
   "outputs": [],
   "source": [
    "# Load a new file with observations of each day, Parse Dates and make it Index.\n",
    "# This has been created taking SUM of per second observation from actual i/p\n",
    "dataset = pd.read_csv('household_power_consumption_days.csv', header=0, infer_datetime_format=True, parse_dates=['Datetime'],\n",
    "                     index_col='Datetime')"
   ]
  },
  {
   "cell_type": "code",
   "execution_count": 39,
   "metadata": {},
   "outputs": [],
   "source": [
    "# Split the dataset into train and test.\n",
    "train, test = split_data_train_test(dataset.values)"
   ]
  },
  {
   "cell_type": "code",
   "execution_count": 40,
   "metadata": {},
   "outputs": [],
   "source": [
    "# Create the models.\n",
    "models = get_models()"
   ]
  },
  {
   "cell_type": "code",
   "execution_count": 41,
   "metadata": {},
   "outputs": [
    {
     "name": "stdout",
     "output_type": "stream",
     "text": [
      "LR: [410.927] 463.8, 381.4, 351.9, 430.7, 387.8, 350.4, 488.8\n",
      "LA: [408.440] 458.4, 378.5, 352.9, 429.5, 388.0, 348.0, 483.5\n",
      "RD: [403.875] 447.1, 377.9, 347.5, 427.4, 384.1, 343.4, 479.7\n",
      "ET: [454.263] 471.8, 433.8, 415.8, 477.4, 434.4, 373.8, 551.8\n",
      "HB: [409.500] 466.8, 380.2, 359.8, 432.4, 387.0, 351.3, 470.9\n",
      "LRS: [410.927] 463.8, 381.4, 351.9, 430.7, 387.8, 350.4, 488.8\n",
      "LLRS: [406.490] 453.0, 378.8, 357.3, 428.1, 388.0, 345.0, 476.9\n",
      "RSR: [493.645] 590.5, 429.0, 386.6, 494.3, 381.9, 454.4, 653.4\n",
      "PAG: [402.763] 439.7, 380.3, 362.4, 429.0, 385.8, 347.4, 461.1\n",
      "SGD: [404.201] 453.3, 377.5, 348.0, 427.1, 382.0, 346.8, 475.5\n"
     ]
    },
    {
     "data": {
      "image/png": "[encoded data removed]",
      "text/plain": [
       "<Figure size 432x288 with 1 Axes>"
      ]
     },
     "metadata": {
      "needs_background": "light"
     },
     "output_type": "display_data"
    },
    {
     "data": {
      "text/plain": [
       "<Figure size 1440x720 with 0 Axes>"
      ]
     },
     "metadata": {},
     "output_type": "display_data"
    }
   ],
   "source": [
    "# Evaluate each model.\n",
    "days = ['Sun', 'Mon', 'Tue', 'Wed', 'Thu', 'Fri', 'Sat']\n",
    "for name, model in models.items():\n",
    "    # Call FUNCTION evaluate_model\n",
    "    score, scores = evaluate_model(model, train, test)\n",
    "    # Call FUNCTION print_scores\n",
    "    print_scores(name, score, scores)\n",
    "    plt.plot(days, scores, label=name)\n",
    "plt.figure(figsize=(20,10))\n",
    "plt.show()"
   ]
  },
  {
   "cell_type": "code",
   "execution_count": null,
   "metadata": {},
   "outputs": [],
   "source": []
  }
 ],
 "metadata": {
  "kernelspec": {
   "display_name": "Python 3",
   "language": "python",
   "name": "python3"
  },
  "language_info": {
   "codemirror_mode": {
    "name": "ipython",
    "version": 3
   },
   "file_extension": ".py",
   "mimetype": "text/x-python",
   "name": "python",
   "nbconvert_exporter": "python",
   "pygments_lexer": "ipython3",
   "version": "3.7.3"
  }
 },
 "nbformat": 4,
 "nbformat_minor": 2
}
