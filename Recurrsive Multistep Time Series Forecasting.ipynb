{
 "cells": [
  {
   "cell_type": "code",
   "execution_count": 138,
   "metadata": {},
   "outputs": [],
   "source": [
    "# Recurrsive multi-step forecast using Linear Algorithms\n",
    "import pandas as pd\n",
    "import numpy as np\n",
    "import scipy\n",
    "import matplotlib.pyplot as plt\n",
    "from math import sqrt\n",
    "from sklearn.metrics import mean_squared_error\n",
    "from sklearn.preprocessing import StandardScaler, MinMaxScaler\n",
    "from sklearn.pipeline import Pipeline\n",
    "from sklearn.linear_model import LinearRegression, Lasso, Ridge, ElasticNet, HuberRegressor, Lars, LassoLars\n",
    "from sklearn.linear_model import RANSACRegressor, PassiveAggressiveRegressor, SGDRegressor"
   ]
  },
  {
   "cell_type": "code",
   "execution_count": 139,
   "metadata": {},
   "outputs": [],
   "source": [
    "# Split the dataset with daily observation into Train And Test. Use First three years as train and Last year as test.\n",
    "# After splitting, restructure into window of weekly data.\n",
    "# i/p: Dataframe Values, o/p: Train and Test array. Each row contains array of daily data for 1 week.\n",
    "def split_data_train_test(data):\n",
    "    train, test = data[1:-328], data[-328:-6]\n",
    "    train = np.array(np.split(train , len(train)/7))\n",
    "    test = np.array(np.split(test , len(test)/7))\n",
    "    return train, test"
   ]
  },
  {
   "cell_type": "code",
   "execution_count": 140,
   "metadata": {},
   "outputs": [],
   "source": [
    "# Prepare a list of ML Linear models as dictionary.\n",
    "def get_models(models=dict()):\n",
    "    models['LR'] = LinearRegression()\n",
    "    models['LA'] = Lasso()\n",
    "    models['RD'] = Ridge()\n",
    "    models['ET'] = ElasticNet()\n",
    "    models['HB'] = HuberRegressor()\n",
    "    models['LRS'] = Lars()\n",
    "    models['LLRS'] = LassoLars()\n",
    "    models['RSR'] = RANSACRegressor()\n",
    "    models['PAG'] = PassiveAggressiveRegressor(max_iter=1000, tol=1e-3)    \n",
    "    models['SGD'] = SGDRegressor(max_iter=1000, tol=1e-3)\n",
    "    return models"
   ]
  },
  {
   "cell_type": "code",
   "execution_count": 141,
   "metadata": {},
   "outputs": [],
   "source": [
    "# Create a Pipeline for a model with Pre-Processing steps.\n",
    "def make_pipeline(model):\n",
    "    steps = []\n",
    "    steps.append(('standardize', StandardScaler()))\n",
    "    steps.append(('normalize', MinMaxScaler()))\n",
    "    steps.append(('model', model))  \n",
    "    pipeline = Pipeline(steps=steps)\n",
    "    return pipeline               "
   ]
  },
  {
   "cell_type": "code",
   "execution_count": 142,
   "metadata": {},
   "outputs": [],
   "source": [
    "# Create evaluation matirx using RMSE across each of the forecasted days and overall score.\n",
    "def evaluate_forecasts(actual, predicted):\n",
    "    scores = list()\n",
    "    # calculate RMSE score of each day for all the weeks available.\n",
    "    for col in range(actual.shape[1]):\n",
    "        mse = mean_squared_error(actual[:, col], predicted[:, col])\n",
    "        rmse = sqrt(mse)\n",
    "        scores.append(rmse)\n",
    "        \n",
    "    # calculate overall RMSE score of all the weeks available.\n",
    "    s = 0\n",
    "    for row in range(actual.shape[0]):\n",
    "        for col in range(actual.shape[1]):\n",
    "            s += (actual[row,col] - predicted[row,col])**2\n",
    "    score = sqrt(s/(actual.shape[0] * actual.shape[1]))\n",
    "    return score, scores   "
   ]
  },
  {
   "cell_type": "code",
   "execution_count": 143,
   "metadata": {},
   "outputs": [],
   "source": [
    "# X = [X1,X2,X3]\n",
    "# y1 = predict(X)\n",
    "\n",
    "# X = [X2,X3,y1]\n",
    "# y2 = predict(X)\n",
    "\n",
    "# X = [X3,y1,y2]\n",
    "# y3 = predict(X)\n",
    "# The model will use the last row of the training dataset to make the forecast called Recursive Multistep Forecast.\n",
    "def make_forecast(pipeline, weekly_data, n_input):\n",
    "    weekly_predict = []\n",
    "    daily_data = [data for data in weekly_data]\n",
    "    # forecast for next 7 days\n",
    "    for day in range(7):\n",
    "        X = (np.array(daily_data[-n_input:])).reshape(1,n_input)\n",
    "        daily_predict = pipeline.predict(X)[0]\n",
    "        weekly_predict.append(daily_predict)\n",
    "        daily_data.append(daily_predict)\n",
    "    return(weekly_predict)"
   ]
  },
  {
   "cell_type": "code",
   "execution_count": 144,
   "metadata": {},
   "outputs": [],
   "source": [
    "# i/p: list of weekly data + n_input, o/p: train_x, train_y\n",
    "def split_train_Xy(history, n_input):\n",
    "    # Call function to_series to select only Total power\n",
    "    series = [week[:,0] for week in history] \n",
    "    data = np.array(series).flatten()\n",
    "    X, y = list(), list()\n",
    "    start = 0\n",
    "    for i in range(len(data)):\n",
    "        end = start  + n_input\n",
    "        if end < len(data):\n",
    "            X.append(data[start:end])\n",
    "            y.append(data[end])  \n",
    "        start += 1    \n",
    "    return np.array(X), np.array(y)"
   ]
  },
  {
   "cell_type": "code",
   "execution_count": 145,
   "metadata": {},
   "outputs": [],
   "source": [
    "# Fit a model and make a forecast\n",
    "# i/p: model, list of weekly data, n_input. o/p: Forecast for next 1 week\n",
    "def predict_model(model, history, n_input):\n",
    "    # Call FUNCTION train_test_split\n",
    "    train_x, train_y = split_train_Xy(history, n_input)\n",
    "    \n",
    "    pipeline = make_pipeline(model)\n",
    "    pipeline.fit(train_x, train_y)\n",
    "    \n",
    "    weekly_predict = make_forecast(pipeline, train_x[-1,:], n_input)\n",
    "    return(weekly_predict)"
   ]
  },
  {
   "cell_type": "code",
   "execution_count": 146,
   "metadata": {},
   "outputs": [],
   "source": [
    "# Evaluate a single model.\n",
    "# i/p: Model, Array of train/test and n_input. o/p - Total RMSE and Daily RMSE for 7 days.\n",
    "def evaluate_model(model, train, test, n_input):\n",
    "    history = [weekly_data for weekly_data in train]\n",
    "    predictions = []\n",
    "    for week in range(len(test)):\n",
    "        # Call FUNCTION predict_model\n",
    "        weekly_predict = predict_model(model, history, n_input)\n",
    "        predictions.append(weekly_predict)\n",
    "        history.append(test[week,:])\n",
    "        \n",
    "    predictions = np.array(predictions)    \n",
    "    # Call FUNCTION evaluate_forecast\n",
    "    score, scores = evaluate_forecasts(test[:,:,0], predictions)\n",
    "    return score, scores    "
   ]
  },
  {
   "cell_type": "code",
   "execution_count": 147,
   "metadata": {},
   "outputs": [],
   "source": [
    "# Print Scores\n",
    "def print_scores(name, score, scores):\n",
    "    s_scores = ', '.join(['%.1f' % s for s in scores])\n",
    "    print('%s: [%.3f] %s' % (name, score, s_scores))"
   ]
  },
  {
   "cell_type": "code",
   "execution_count": 148,
   "metadata": {},
   "outputs": [],
   "source": [
    "# Load a new file with observations of each day, Parse Dates and make it Index.\n",
    "# This has been created taking SUM of per second observation from actual i/p\n",
    "dataset = pd.read_csv('household_power_consumption_days.csv', header=0, infer_datetime_format=True, parse_dates=['Datetime'],\n",
    "                     index_col='Datetime')"
   ]
  },
  {
   "cell_type": "code",
   "execution_count": 149,
   "metadata": {},
   "outputs": [],
   "source": [
    "# Split the dataset into train and test.\n",
    "train, test = split_data_train_test(dataset.values)"
   ]
  },
  {
   "cell_type": "code",
   "execution_count": 150,
   "metadata": {},
   "outputs": [],
   "source": [
    "# Create the models and set n_input. n_input is the no of prior days model will use for predicting next n_input days.\n",
    "models = get_models()\n",
    "n_input = 7"
   ]
  },
  {
   "cell_type": "code",
   "execution_count": 151,
   "metadata": {},
   "outputs": [
    {
     "name": "stdout",
     "output_type": "stream",
     "text": [
      "LR: [388.388] 411.0, 389.1, 338.0, 370.8, 408.5, 308.3, 471.1\n",
      "LA: [386.838] 403.6, 388.9, 337.3, 371.1, 406.1, 307.6, 471.6\n",
      "RD: [387.659] 407.9, 388.6, 337.5, 371.2, 407.0, 307.7, 471.7\n",
      "ET: [469.337] 452.2, 451.9, 435.8, 485.7, 460.4, 405.8, 575.1\n",
      "HB: [392.465] 412.1, 388.0, 337.9, 377.3, 405.6, 306.9, 492.5\n",
      "LRS: [388.388] 411.0, 389.1, 338.0, 370.8, 408.5, 308.3, 471.1\n",
      "LLRS: [388.406] 396.1, 387.8, 339.3, 377.8, 402.9, 310.3, 481.9\n",
      "RSR: [465.470] 442.6, 531.4, 412.5, 412.6, 476.1, 426.9, 537.6\n",
      "PAG: [398.292] 414.5, 390.5, 340.5, 384.8, 408.9, 312.3, 507.3\n",
      "SGD: [386.858] 404.5, 389.8, 336.5, 370.6, 406.9, 307.8, 470.3\n"
     ]
    },
    {
     "data": {
      "image/png": "[encoded data removed]",
      "text/plain": [
       "<Figure size 432x288 with 1 Axes>"
      ]
     },
     "metadata": {
      "needs_background": "light"
     },
     "output_type": "display_data"
    },
    {
     "data": {
      "text/plain": [
       "<Figure size 1440x720 with 0 Axes>"
      ]
     },
     "metadata": {},
     "output_type": "display_data"
    }
   ],
   "source": [
    "# Evaluate each model.\n",
    "days = ['Sun', 'Mon', 'Tue', 'Wed', 'Thu', 'Fri', 'Sat']\n",
    "for name, model in models.items():\n",
    "    # Call FUNCTION evaluate_model\n",
    "    score, scores = evaluate_model(model, train, test, n_input)\n",
    "    # Call FUNCTION print_scores\n",
    "    print_scores(name, score, scores)\n",
    "    plt.plot(days, scores, label=name)\n",
    "plt.figure(figsize=(20,10))\n",
    "plt.show()"
   ]
  }
 ],
 "metadata": {
  "kernelspec": {
   "display_name": "Python 3",
   "language": "python",
   "name": "python3"
  },
  "language_info": {
   "codemirror_mode": {
    "name": "ipython",
    "version": 3
   },
   "file_extension": ".py",
   "mimetype": "text/x-python",
   "name": "python",
   "nbconvert_exporter": "python",
   "pygments_lexer": "ipython3",
   "version": "3.7.3"
  }
 },
 "nbformat": 4,
 "nbformat_minor": 2
}
